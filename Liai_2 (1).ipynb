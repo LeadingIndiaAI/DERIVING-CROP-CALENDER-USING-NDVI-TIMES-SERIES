{
  "nbformat": 4,
  "nbformat_minor": 0,
  "metadata": {
    "colab": {
      "name": "Liai_2.ipynb",
      "provenance": [],
      "collapsed_sections": []
    },
    "kernelspec": {
      "name": "python3",
      "display_name": "Python 3"
    }
  },
  "cells": [
    {
      "cell_type": "code",
      "metadata": {
        "id": "HE0V9r6MWA8d",
        "colab_type": "code",
        "colab": {
          "base_uri": "https://localhost:8080/",
          "height": 80
        },
        "outputId": "55236726-110d-4a7a-8f5b-d94430fa302d"
      },
      "source": [
        "!unzip '/content/drive/My Drive/Deep learning/newndvi1.zip'"
      ],
      "execution_count": null,
      "outputs": [
        {
          "output_type": "stream",
          "text": [
            "Archive:  /content/drive/My Drive/Deep learning/newndvi1.zip\n",
            "replace 2017_2018/awifs_ndvi_201701_15_1_clipped.tif? [y]es, [n]o, [A]ll, [N]one, [r]ename: "
          ],
          "name": "stdout"
        }
      ]
    },
    {
      "cell_type": "code",
      "metadata": {
        "id": "lfEMlfTQ9XMD",
        "colab_type": "code",
        "colab": {}
      },
      "source": [
        "!pip install geopandas "
      ],
      "execution_count": null,
      "outputs": []
    },
    {
      "cell_type": "code",
      "metadata": {
        "id": "Q_QuVNZT9jvY",
        "colab_type": "code",
        "colab": {}
      },
      "source": [
        "!pip install earthpy"
      ],
      "execution_count": null,
      "outputs": []
    },
    {
      "cell_type": "markdown",
      "metadata": {
        "id": "bhZNthpj_7Vh",
        "colab_type": "text"
      },
      "source": [
        "LATEST NEW METHOD\n"
      ]
    },
    {
      "cell_type": "code",
      "metadata": {
        "id": "VOq3_3d8_uns",
        "colab_type": "code",
        "colab": {}
      },
      "source": [
        "import rasterio\n",
        "import rasterio.plot\n",
        "import pyproj\n",
        "import numpy as np\n",
        "import matplotlib\n",
        "import matplotlib.pyplot as plt\n"
      ],
      "execution_count": null,
      "outputs": []
    },
    {
      "cell_type": "code",
      "metadata": {
        "id": "guHt-1hC_u45",
        "colab_type": "code",
        "colab": {}
      },
      "source": [
        "print('Landsat on Google:')\n",
        "filepath = '/content/kharif/2017/awifs_ndvi_201710_15_1_clipped.tif'\n",
        "with rasterio.open(filepath) as src:\n",
        "    print(src.profile)"
      ],
      "execution_count": null,
      "outputs": []
    },
    {
      "cell_type": "code",
      "metadata": {
        "id": "PyZqzdZV_vCN",
        "colab_type": "code",
        "colab": {}
      },
      "source": [
        "with rasterio.open(filepath) as src:\n",
        "    ndvi = src.read()\n",
        "    ndvi = ndvi.reshape(ndvi.shape[1], ndvi.shape[2])\n",
        "    ndvi = ((ndvi/255.0)-0.5)*2\n",
        "    print(ndvi.shape)"
      ],
      "execution_count": null,
      "outputs": []
    },
    {
      "cell_type": "code",
      "metadata": {
        "id": "g7X0luy__u_H",
        "colab_type": "code",
        "colab": {}
      },
      "source": [
        "plt.imshow(ndvi, cmap='RdYlGn')\n",
        "plt.colorbar()\n",
        "# plt.title('NDVI {}'.format(date))\n",
        "plt.xlabel('Column #')\n",
        "plt.ylabel('Row #')"
      ],
      "execution_count": null,
      "outputs": []
    },
    {
      "cell_type": "code",
      "metadata": {
        "id": "WR9zBGeqKBIh",
        "colab_type": "code",
        "colab": {}
      },
      "source": [
        "filepath1 = '/content/kharif/2018/awifs_ndvi_201810_15_1_clipped.tif'\n",
        "with rasterio.open(filepath1) as src:\n",
        "    print(src.profile)"
      ],
      "execution_count": null,
      "outputs": []
    },
    {
      "cell_type": "code",
      "metadata": {
        "id": "6YFGVSbPKBTm",
        "colab_type": "code",
        "colab": {}
      },
      "source": [
        "with rasterio.open(filepath1) as src:\n",
        "    ndvi1 = src.read()\n",
        "    ndvi1 = ndvi1.reshape(ndvi1.shape[1], ndvi1.shape[2])\n",
        "    ndvi1 = ((ndvi1/255.0)-0.5)*2\n",
        "    print(ndvi1.shape)"
      ],
      "execution_count": null,
      "outputs": []
    },
    {
      "cell_type": "code",
      "metadata": {
        "id": "k1JCdTVJf5qy",
        "colab_type": "code",
        "colab": {}
      },
      "source": [
        "# print(np.unique(ndvi1))"
      ],
      "execution_count": null,
      "outputs": []
    },
    {
      "cell_type": "code",
      "metadata": {
        "id": "lRFu9j2hKNHY",
        "colab_type": "code",
        "colab": {}
      },
      "source": [
        "plt.imshow(ndvi1, cmap='RdYlGn')\n",
        "plt.colorbar()\n",
        "# plt.title('NDVI {}'.format(date))\n",
        "plt.xlabel('Column #')\n",
        "plt.ylabel('Row #')"
      ],
      "execution_count": null,
      "outputs": []
    },
    {
      "cell_type": "code",
      "metadata": {
        "id": "8qMAUwSl_ugy",
        "colab_type": "code",
        "colab": {}
      },
      "source": [
        "fig, axes = plt.subplots(1,3, figsize=(14,6), sharex=True, sharey=True)\n",
        "\n",
        "plt.sca(axes[0])\n",
        "plt.imshow(ndvi, cmap='RdYlGn', vmin=-1, vmax=1)\n",
        "plt.colorbar(shrink=0.5)\n",
        "plt.title('NDVI {}'.format('2017'))\n",
        "plt.xlabel('Column #')\n",
        "plt.ylabel('Row #')\n",
        "\n",
        "plt.sca(axes[1])\n",
        "plt.imshow(ndvi1, cmap='RdYlGn', vmin=-1, vmax=1)\n",
        "plt.colorbar(shrink=0.5)\n",
        "plt.title('NDVI {}'.format('2018'))\n",
        "\n",
        "plt.sca(axes[2])\n",
        "plt.imshow(ndvi1 - ndvi, cmap='bwr', vmin=-1, vmax=1)\n",
        "plt.colorbar(shrink=0.5)\n",
        "plt.title('Diff ({} - {})'.format('2018', '2017'))"
      ],
      "execution_count": null,
      "outputs": []
    },
    {
      "cell_type": "code",
      "metadata": {
        "id": "Km4YqIwMzNXB",
        "colab_type": "code",
        "colab": {}
      },
      "source": [
        "k_stacked = np.stack((ndvi,ndvi1),axis=2)\n",
        "k_stacked.shape"
      ],
      "execution_count": null,
      "outputs": []
    },
    {
      "cell_type": "code",
      "metadata": {
        "id": "CTt2jC3yzNVW",
        "colab_type": "code",
        "colab": {}
      },
      "source": [
        "import earthpy.spatial as es\n",
        "from glob import glob\n",
        "import os\n",
        "\n",
        "\n",
        "data_path = \"/content/kharif/2017\"\n",
        "stack_band_paths_2017 = glob(os.path.join(data_path, '*'))\n",
        "stack_band_paths_2017.remove('/content/kharif/2017/New')\n",
        "stack_band_paths_2017.sort()\n",
        "\n",
        "data_path = \"/content/kharif/2018\"\n",
        "stack_band_paths_2018 = glob(os.path.join(data_path, '*'))\n",
        "stack_band_paths_2018.sort()\n",
        "\n",
        "arr_st1, meta = es.stack(stack_band_paths_2017, nodata=-9999)\n",
        "arr_st2, meta = es.stack(stack_band_paths_2018, nodata=-9999)\n",
        "\n",
        "k_stacked = np.stack((arr_st1,arr_st2))\n",
        "k_stacked = k_stacked.reshape(k_stacked.shape[2] , k_stacked.shape[3] ,k_stacked.shape[0]*k_stacked.shape[1])\n",
        "\n",
        "k_stacked = k_stacked.astype(np.float)\n",
        "k_stacked[:][:][:] = ((k_stacked[:][:][:].__imul__(1/255)).__isub__(0.5)).__imul__(2)\n",
        "# k_stacked[:][1][0] = ((k_stacked[:][1][0]/255.0)-0.5)*2\n",
        "# print(np.unique(k_stacked[:][:][:]))\n",
        "# k_stacked[:][:][:]\n",
        "\n",
        "k_stacked.shape"
      ],
      "execution_count": null,
      "outputs": []
    },
    {
      "cell_type": "code",
      "metadata": {
        "id": "tsGioAEw_uct",
        "colab_type": "code",
        "colab": {}
      },
      "source": [
        "data_path = \"/content/rabi/2017\"\n",
        "stack_band_paths_2017 = glob(os.path.join(data_path, '*'))\n",
        "stack_band_paths_2017.sort()\n",
        "\n",
        "data_path = \"/content/rabi/2018\"\n",
        "stack_band_paths_2018 = glob(os.path.join(data_path, '*'))\n",
        "stack_band_paths_2018.sort()\n",
        "\n",
        "\n",
        "arr_st1, meta = es.stack(stack_band_paths_2017, nodata=-9999)\n",
        "arr_st2, meta = es.stack(stack_band_paths_2018, nodata=-9999)\n",
        "\n",
        "r_stacked = np.stack((arr_st1,arr_st2))\n",
        "r_stacked = r_stacked.reshape(r_stacked.shape[2] , r_stacked.shape[3] ,r_stacked.shape[0]*r_stacked.shape[1])\n",
        "\n",
        "r_stacked = r_stacked.astype(np.float)\n",
        "r_stacked[:][:][:] = ((r_stacked[:][:][:].__imul__(1/255)).__isub__(0.5)).__imul__(2)\n",
        "\n",
        "r_stacked.shape"
      ],
      "execution_count": null,
      "outputs": []
    },
    {
      "cell_type": "code",
      "metadata": {
        "id": "FwE4STKD8w_B",
        "colab_type": "code",
        "colab": {}
      },
      "source": [
        "data_path = \"/content/zaid/2017\"\n",
        "stack_band_paths_2017 = glob(os.path.join(data_path, '*'))\n",
        "stack_band_paths_2017.sort()\n",
        "\n",
        "data_path = \"/content/zaid/2018\"\n",
        "stack_band_paths_2018 = glob(os.path.join(data_path, '*'))\n",
        "stack_band_paths_2018.sort()\n",
        "\n",
        "\n",
        "arr_st1, meta = es.stack(stack_band_paths_2017, nodata=-9999)\n",
        "arr_st2, meta = es.stack(stack_band_paths_2018, nodata=-9999)\n",
        "\n",
        "z_stacked = np.stack((arr_st1,arr_st2))\n",
        "z_stacked = z_stacked.reshape(z_stacked.shape[2] , z_stacked.shape[3] ,z_stacked.shape[0]*z_stacked.shape[1])\n",
        "\n",
        "z_stacked = z_stacked.astype(np.float)\n",
        "z_stacked[:][:][:] = ((z_stacked[:][:][:].__imul__(1/255)).__isub__(0.5)).__imul__(2)\n",
        "\n",
        "z_stacked.shape"
      ],
      "execution_count": null,
      "outputs": []
    },
    {
      "cell_type": "code",
      "metadata": {
        "id": "Gg8YxaAY7uAf",
        "colab_type": "code",
        "colab": {}
      },
      "source": [
        "z_stacked[:][:][0]"
      ],
      "execution_count": null,
      "outputs": []
    },
    {
      "cell_type": "code",
      "metadata": {
        "id": "XKuS7plD7vrX",
        "colab_type": "code",
        "colab": {}
      },
      "source": [
        "x= []\n",
        "for i in range(20):\n",
        "  temp = list(k_stacked[:][:][i].flatten())\n",
        "\n",
        "  temp = [item for item in temp if item >= 0.1]\n",
        "\n",
        "  ndvi_value = sum(temp) / len(temp) \n",
        "  x.append(ndvi_value)\n",
        "\n",
        "x.pop(0)"
      ],
      "execution_count": null,
      "outputs": []
    },
    {
      "cell_type": "code",
      "metadata": {
        "id": "ncvxRbAy-gBq",
        "colab_type": "code",
        "colab": {}
      },
      "source": [
        "plt.plot(['june17_1','june17_2','july17_1','july17_2','aug17_1','aug17_2','sept17_1','sept17_2',9,10,11,12,13,14,15,16,17,18,19],x)"
      ],
      "execution_count": null,
      "outputs": []
    },
    {
      "cell_type": "code",
      "metadata": {
        "id": "5b0TBaVy7b-N",
        "colab_type": "code",
        "colab": {}
      },
      "source": [
        "x= []\n",
        "for i in range(20):\n",
        "  temp = list(r_stacked[:][:][i].flatten())\n",
        "\n",
        "  temp = [item for item in temp if item >= 0.1]\n",
        "\n",
        "  ndvi_value = sum(temp) / len(temp) \n",
        "  x.append(ndvi_value)\n",
        "\n",
        "x.pop(0)"
      ],
      "execution_count": null,
      "outputs": []
    },
    {
      "cell_type": "code",
      "metadata": {
        "id": "C3sGVo7UiKYy",
        "colab_type": "code",
        "colab": {}
      },
      "source": [
        "plt.plot([1,2,3,4,5,6,7,8,9,10,11,12,13,14,15,16,17,18,19],x)"
      ],
      "execution_count": null,
      "outputs": []
    },
    {
      "cell_type": "code",
      "metadata": {
        "id": "AUWDzJ-V7cEU",
        "colab_type": "code",
        "colab": {}
      },
      "source": [
        "x= []\n",
        "for i in range(8):\n",
        "  temp = list(z_stacked[:][:][i].flatten())\n",
        "\n",
        "  temp = [item for item in temp if item >= 0.0]\n",
        "\n",
        "  ndvi_value = sum(temp) / len(temp) \n",
        "  x.append(ndvi_value)\n",
        "\n",
        "x.pop(0)"
      ],
      "execution_count": null,
      "outputs": []
    },
    {
      "cell_type": "code",
      "metadata": {
        "id": "yVIHAoUYiKck",
        "colab_type": "code",
        "colab": {}
      },
      "source": [
        "plt.plot([1,2,3,4,5,6,7],x)\n",
        "# plt.show()"
      ],
      "execution_count": null,
      "outputs": []
    },
    {
      "cell_type": "code",
      "metadata": {
        "id": "4Fqsg_mkiKVw",
        "colab_type": "code",
        "colab": {}
      },
      "source": [
        ""
      ],
      "execution_count": null,
      "outputs": []
    },
    {
      "cell_type": "code",
      "metadata": {
        "id": "O7gjRf4piKTR",
        "colab_type": "code",
        "colab": {}
      },
      "source": [
        "data_path = \"/content/2017\"\n",
        "stack_band_paths_2017 = glob(os.path.join(data_path, '*'))\n",
        "stack_band_paths_2017.sort()\n",
        "\n",
        "a2017_stacked, meta = es.stack(stack_band_paths_2017, nodata=-9999)\n",
        "\n",
        "# k_stacked = k_stacked.reshape(k_stacked.shape[2] , k_stacked.shape[3] ,k_stacked.shape[0]*k_stacked.shape[1])\n",
        "\n",
        "a2017_stacked = a2017_stacked.astype(np.float)\n",
        "a2017_stacked[:][:][:] = ((a2017_stacked[:][:][:].__imul__(1/255)).__isub__(0.5)).__imul__(2)\n"
      ],
      "execution_count": null,
      "outputs": []
    },
    {
      "cell_type": "code",
      "metadata": {
        "id": "8QqjWp6jQPp4",
        "colab_type": "code",
        "colab": {}
      },
      "source": [
        "a2017_stacked.shape\n",
        "\n",
        "# 2135 * 2118 = 4521930"
      ],
      "execution_count": null,
      "outputs": []
    },
    {
      "cell_type": "code",
      "metadata": {
        "id": "_IW1hqQFQPf9",
        "colab_type": "code",
        "colab": {}
      },
      "source": [
        "import statistics\n",
        "\n",
        "x= []\n",
        "no_pixels = []\n",
        "for i in range(24):\n",
        "  temp = list(a2017_stacked[:][:][i].flatten())\n",
        "\n",
        "  temp = [item for item in temp if item >= 0.1]\n",
        "  no_pixels.append(len(temp))\n",
        "  \n",
        "  \n",
        "  ndvi_value = statistics.mean(temp)\n",
        "  # ndvi_value = sum(temp) / len(temp) \n",
        "  x.append(ndvi_value)\n",
        "\n",
        "# x.pop(0)"
      ],
      "execution_count": null,
      "outputs": []
    },
    {
      "cell_type": "code",
      "metadata": {
        "id": "IaaJ-8QuQPdV",
        "colab_type": "code",
        "colab": {}
      },
      "source": [
        "plt.plot([1,2,3,4,5,6,7,8,9,10,11,12,13,14,15,16,17,18,19,20,21,22,23,24],x)"
      ],
      "execution_count": null,
      "outputs": []
    },
    {
      "cell_type": "code",
      "metadata": {
        "id": "545kSrj6h3eC",
        "colab_type": "code",
        "colab": {}
      },
      "source": [
        ""
      ],
      "execution_count": null,
      "outputs": []
    },
    {
      "cell_type": "code",
      "metadata": {
        "id": "vVp3UcYchb7A",
        "colab_type": "code",
        "colab": {}
      },
      "source": [
        "x"
      ],
      "execution_count": null,
      "outputs": []
    },
    {
      "cell_type": "code",
      "metadata": {
        "id": "--2b06y1ZuHq",
        "colab_type": "code",
        "colab": {}
      },
      "source": [
        "no_pixels"
      ],
      "execution_count": null,
      "outputs": []
    },
    {
      "cell_type": "code",
      "metadata": {
        "id": "vJtJMcGUZuBs",
        "colab_type": "code",
        "colab": {}
      },
      "source": [
        "sum(no_pixels)"
      ],
      "execution_count": null,
      "outputs": []
    },
    {
      "cell_type": "code",
      "metadata": {
        "id": "EFleRyhrQPPw",
        "colab_type": "code",
        "colab": {}
      },
      "source": [
        "data_path = \"/content/2018\"\n",
        "stack_band_paths_2017 = glob(os.path.join(data_path, '*'))\n",
        "stack_band_paths_2017.sort()\n",
        "\n",
        "a2018_stacked, meta = es.stack(stack_band_paths_2017, nodata=-9999)\n",
        "\n",
        "# k_stacked = k_stacked.reshape(k_stacked.shape[2] , k_stacked.shape[3] ,k_stacked.shape[0]*k_stacked.shape[1])\n",
        "\n",
        "a2018_stacked = a2018_stacked.astype(np.float)\n",
        "a2018_stacked[:][:][:] = ((a2018_stacked[:][:][:].__imul__(1/255)).__isub__(0.5)).__imul__(2)\n"
      ],
      "execution_count": null,
      "outputs": []
    },
    {
      "cell_type": "code",
      "metadata": {
        "id": "1VN8xT3vZsyi",
        "colab_type": "code",
        "colab": {}
      },
      "source": [
        ""
      ],
      "execution_count": null,
      "outputs": []
    },
    {
      "cell_type": "code",
      "metadata": {
        "id": "41ZQ1UN6iKQT",
        "colab_type": "code",
        "colab": {}
      },
      "source": [
        "a2018_stacked.shape"
      ],
      "execution_count": null,
      "outputs": []
    },
    {
      "cell_type": "code",
      "metadata": {
        "id": "1Y8xtn-iiKNZ",
        "colab_type": "code",
        "colab": {}
      },
      "source": [
        "x= []\n",
        "for i in range(24):\n",
        "  temp = list(a2018_stacked[:][:][i].flatten())\n",
        "\n",
        "  temp = [item for item in temp if item >= 0.1]\n",
        "\n",
        "  ndvi_value = sum(temp) / len(temp) \n",
        "  x.append(ndvi_value)\n",
        "\n",
        "# x.pop(0)"
      ],
      "execution_count": null,
      "outputs": []
    },
    {
      "cell_type": "code",
      "metadata": {
        "id": "xuOpsxvGeB-R",
        "colab_type": "code",
        "colab": {}
      },
      "source": [
        "plt.plot([1,2,3,4,5,6,7,8,9,10,11,12,13,14,15,16,17,18,19,20,21,22,23,24],x)"
      ],
      "execution_count": null,
      "outputs": []
    },
    {
      "cell_type": "code",
      "metadata": {
        "id": "CJRXTot2XqFG",
        "colab_type": "code",
        "colab": {}
      },
      "source": [
        ""
      ],
      "execution_count": null,
      "outputs": []
    },
    {
      "cell_type": "code",
      "metadata": {
        "id": "-6qulmF9eB6V",
        "colab_type": "code",
        "colab": {}
      },
      "source": [
        "data_path = \"/content/2017_2018\"\n",
        "stack_band_paths_2017 = glob(os.path.join(data_path, '*'))\n",
        "stack_band_paths_2017.sort()\n",
        "\n",
        "a2017_18_stacked, meta = es.stack(stack_band_paths_2017, nodata=-9999)\n",
        "\n",
        "# k_stacked = k_stacked.reshape(k_stacked.shape[2] , k_stacked.shape[3] ,k_stacked.shape[0]*k_stacked.shape[1])\n",
        "\n",
        "a2017_18_stacked = a2017_18_stacked.astype(np.float)\n",
        "a2017_18_stacked[:][:][:] = ((a2017_18_stacked[:][:][:].__imul__(1/255)).__isub__(0.5)).__imul__(2)\n"
      ],
      "execution_count": null,
      "outputs": []
    },
    {
      "cell_type": "code",
      "metadata": {
        "id": "bMKQuVRheB3D",
        "colab_type": "code",
        "colab": {}
      },
      "source": [
        "a2017_18_stacked.shape"
      ],
      "execution_count": null,
      "outputs": []
    },
    {
      "cell_type": "code",
      "metadata": {
        "id": "o_hY59hseB0J",
        "colab_type": "code",
        "colab": {}
      },
      "source": [
        "x= []\n",
        "for i in range(48):\n",
        "  temp = list(a2017_18_stacked[:][:][i].flatten())\n",
        "\n",
        "  temp = [item for item in temp if item >= 0.3]\n",
        "\n",
        "  ndvi_value = sum(temp) / len(temp) \n",
        "  x.append(ndvi_value)\n",
        "\n",
        "# x.pop(0)"
      ],
      "execution_count": null,
      "outputs": []
    },
    {
      "cell_type": "code",
      "metadata": {
        "id": "lGqpp-V4h130",
        "colab_type": "code",
        "colab": {}
      },
      "source": [
        "plt.plot([1,2,3,4,5,6,7,8,9,10,11,12,13,14,15,16,17,18,19,20,21,22,23,24,25,26,27,28,29,30,31,32,33,34,35,36,37,38,39,40,41,42,43,44,45,46,47,48],x)"
      ],
      "execution_count": null,
      "outputs": []
    },
    {
      "cell_type": "code",
      "metadata": {
        "id": "yc5AZ0tFh1zD",
        "colab_type": "code",
        "colab": {}
      },
      "source": [
        ""
      ],
      "execution_count": null,
      "outputs": []
    },
    {
      "cell_type": "code",
      "metadata": {
        "id": "OC0eaEAoh1wH",
        "colab_type": "code",
        "colab": {}
      },
      "source": [
        "data_path = \"/content/half2017_2018\"\n",
        "stack_band_paths_2017 = glob(os.path.join(data_path, '*'))\n",
        "stack_band_paths_2017.sort()\n",
        "\n",
        "a2017_18_stacked, meta = es.stack(stack_band_paths_2017, nodata=-9999)\n",
        "\n",
        "# k_stacked = k_stacked.reshape(k_stacked.shape[2] , k_stacked.shape[3] ,k_stacked.shape[0]*k_stacked.shape[1])\n",
        "\n",
        "a2017_18_stacked = a2017_18_stacked.astype(np.float)\n",
        "a2017_18_stacked[:][:][:] = ((a2017_18_stacked[:][:][:].__imul__(1/255)).__isub__(0.5)).__imul__(2)"
      ],
      "execution_count": null,
      "outputs": []
    },
    {
      "cell_type": "code",
      "metadata": {
        "id": "fcET1m2ih1ti",
        "colab_type": "code",
        "colab": {}
      },
      "source": [
        "a2017_18_stacked.shape"
      ],
      "execution_count": null,
      "outputs": []
    },
    {
      "cell_type": "code",
      "metadata": {
        "id": "c8FzYF6f9qtp",
        "colab_type": "code",
        "colab": {}
      },
      "source": [
        "x= []\n",
        "for i in range(22):\n",
        "  temp = list(a2017_18_stacked[:][:][i].flatten())\n",
        "\n",
        "  temp = [item for item in temp if item >= 0.1]\n",
        "\n",
        "  ndvi_value = sum(temp) / len(temp) \n",
        "  x.append(ndvi_value)\n",
        "\n",
        "# x.pop(0)"
      ],
      "execution_count": null,
      "outputs": []
    },
    {
      "cell_type": "code",
      "metadata": {
        "id": "WaII5L9N9q7Q",
        "colab_type": "code",
        "colab": {}
      },
      "source": [
        "plt.plot([1,2,3,4,5,6,7,8,9,10,11,12,13,14,15,16,17,18,19,20,21,22],x)"
      ],
      "execution_count": null,
      "outputs": []
    },
    {
      "cell_type": "code",
      "metadata": {
        "id": "0S_Zfmms9q5F",
        "colab_type": "code",
        "colab": {}
      },
      "source": [
        "x"
      ],
      "execution_count": null,
      "outputs": []
    },
    {
      "cell_type": "code",
      "metadata": {
        "id": "jBMs9sjwFXKC",
        "colab_type": "code",
        "colab": {}
      },
      "source": [
        ""
      ],
      "execution_count": null,
      "outputs": []
    },
    {
      "cell_type": "code",
      "metadata": {
        "id": "DnBVMFYOFXaq",
        "colab_type": "code",
        "colab": {}
      },
      "source": [
        ""
      ],
      "execution_count": null,
      "outputs": []
    },
    {
      "cell_type": "code",
      "metadata": {
        "id": "1exsV5QeFXWi",
        "colab_type": "code",
        "colab": {}
      },
      "source": [
        ""
      ],
      "execution_count": null,
      "outputs": []
    },
    {
      "cell_type": "code",
      "metadata": {
        "id": "jB7sHAaf9q0r",
        "colab_type": "code",
        "colab": {}
      },
      "source": [
        ""
      ],
      "execution_count": null,
      "outputs": []
    },
    {
      "cell_type": "code",
      "metadata": {
        "id": "NY8zOUyWh1o_",
        "colab_type": "code",
        "colab": {}
      },
      "source": [
        ""
      ],
      "execution_count": null,
      "outputs": []
    },
    {
      "cell_type": "code",
      "metadata": {
        "id": "S7jMqji9eBw_",
        "colab_type": "code",
        "colab": {}
      },
      "source": [
        ""
      ],
      "execution_count": null,
      "outputs": []
    },
    {
      "cell_type": "code",
      "metadata": {
        "id": "am4TpSoWiKLB",
        "colab_type": "code",
        "colab": {}
      },
      "source": [
        ""
      ],
      "execution_count": null,
      "outputs": []
    },
    {
      "cell_type": "code",
      "metadata": {
        "id": "LrTL2kS0iKIg",
        "colab_type": "code",
        "colab": {}
      },
      "source": [
        ""
      ],
      "execution_count": null,
      "outputs": []
    },
    {
      "cell_type": "code",
      "metadata": {
        "id": "d9lNMl7hiKFC",
        "colab_type": "code",
        "colab": {}
      },
      "source": [
        ""
      ],
      "execution_count": null,
      "outputs": []
    },
    {
      "cell_type": "code",
      "metadata": {
        "id": "g-btR12d8wxM",
        "colab_type": "code",
        "colab": {}
      },
      "source": [
        ""
      ],
      "execution_count": null,
      "outputs": []
    },
    {
      "cell_type": "markdown",
      "metadata": {
        "id": "fut-GbEM_v9l",
        "colab_type": "text"
      },
      "source": [
        "ACTUAL PART 2 USING EARTHPY"
      ]
    },
    {
      "cell_type": "code",
      "metadata": {
        "id": "NCLyKuWz8-xk",
        "colab_type": "code",
        "colab": {}
      },
      "source": [
        "import os\n",
        "from glob import glob\n",
        "import numpy as np\n",
        "import matplotlib.pyplot as plt\n",
        "from matplotlib.colors import ListedColormap\n",
        "import earthpy as et\n",
        "import earthpy.spatial as es\n",
        "import earthpy.plot as ep\n",
        "import numpy as np\n",
        "\n",
        "# Get list of bands and sort by ascending band number\n",
        "landsat_bands_data_path = \"/content/kharif/2018\"\n",
        "stack_band_paths = glob(os.path.join(landsat_bands_data_path, '*'))\n",
        "stack_band_paths.sort()\n",
        "\n",
        "# Create image stack and apply nodata value for Landsat\n",
        "arr_st, meta = es.stack(stack_band_paths, nodata=-9999)"
      ],
      "execution_count": null,
      "outputs": []
    },
    {
      "cell_type": "code",
      "metadata": {
        "id": "iO1QheLh2075",
        "colab_type": "code",
        "colab": {}
      },
      "source": [
        "# Landsat 8 red band is band 4 at [3]\n",
        "#Landsat 8 near-infrared band is band 5 at [4]\n",
        "ndvi = ((arr_st[6]/255.0)-0.5)*2\n",
        "ndvi"
      ],
      "execution_count": null,
      "outputs": []
    },
    {
      "cell_type": "code",
      "metadata": {
        "id": "soaBO5E4D47_",
        "colab_type": "code",
        "colab": {}
      },
      "source": [
        "# Create classes and apply to NDVI results\n",
        "ndvi_class_bins = [-1, 0, 0.1, 0.25, 0.4, 1]\n",
        "ndvi_landsat_class = np.digitize(ndvi, ndvi_class_bins)\n",
        "\n",
        "# Apply the nodata mask to the newly classified NDVI data\n",
        "ndvi_landsat_class = np.ma.masked_where(\n",
        "    np.ma.getmask(ndvi), ndvi_landsat_class\n",
        ")\n",
        "np.unique(ndvi_landsat_class)"
      ],
      "execution_count": null,
      "outputs": []
    },
    {
      "cell_type": "code",
      "metadata": {
        "id": "Ceuc0CLoKaI1",
        "colab_type": "code",
        "colab": {}
      },
      "source": [
        "nbr_colors = [\"gray\", \"y\", \"yellowgreen\", \"g\", \"darkgreen\"]\n",
        "nbr_cmap = ListedColormap(nbr_colors)\n",
        "\n",
        "# Define class names\n",
        "ndvi_cat_names = [\n",
        "    \"No Vegetation\",\n",
        "    \"Bare Area\",\n",
        "    \"Low Vegetation\",\n",
        "    \"Moderate Vegetation\",\n",
        "    \"High Vegetation\"\n",
        "]\n",
        "\n",
        "# Get list of classes\n",
        "classes = np.unique(ndvi_landsat_class)\n",
        "classes = classes.tolist()\n",
        "# The mask returns a value of none in the classes. remove that\n",
        "classes = classes[0:5]\n",
        "\n",
        "# Plot your data\n",
        "fig, ax = plt.subplots(figsize=(12, 12))\n",
        "im = ax.imshow(ndvi_landsat_class, cmap=nbr_cmap)\n",
        "\n",
        "ep.draw_legend(im_ax=im, classes=classes, titles=ndvi_cat_names)\n",
        "ax.set_title(\n",
        "    \"Landsat 8 - Normalized Difference Vegetation Index (NDVI) Classes\",\n",
        "    fontsize=14,\n",
        ")\n",
        "ax.set_axis_off()\n",
        "\n",
        "# Auto adjust subplot to fit figure size\n",
        "plt.tight_layout()"
      ],
      "execution_count": null,
      "outputs": []
    },
    {
      "cell_type": "code",
      "metadata": {
        "id": "nNJsCIwnKaMr",
        "colab_type": "code",
        "colab": {}
      },
      "source": [
        "ep.plot_bands(arr_st, cbar=True)\n",
        "plt.show()"
      ],
      "execution_count": null,
      "outputs": []
    },
    {
      "cell_type": "code",
      "metadata": {
        "id": "iLJxyp7JKaGU",
        "colab_type": "code",
        "colab": {}
      },
      "source": [
        "ep.plot_bands(arr_st[1])\n",
        "plt.show()"
      ],
      "execution_count": null,
      "outputs": []
    },
    {
      "cell_type": "code",
      "metadata": {
        "id": "4NczMJ4mj9bj",
        "colab_type": "code",
        "colab": {}
      },
      "source": [
        "ep.plot_bands(arr_st[2])\n",
        "plt.show()"
      ],
      "execution_count": null,
      "outputs": []
    },
    {
      "cell_type": "code",
      "metadata": {
        "id": "IahBikVlkFH5",
        "colab_type": "code",
        "colab": {}
      },
      "source": [
        ""
      ],
      "execution_count": null,
      "outputs": []
    }
  ]
}